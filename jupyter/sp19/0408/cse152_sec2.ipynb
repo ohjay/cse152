{
 "cells": [
  {
   "cell_type": "markdown",
   "metadata": {},
   "source": [
    "***\n",
    "\n",
    "# `CSE 152 Section 2`\n",
    "## `Recap: Geometric Image Formation`\n",
    "\n",
    "***"
   ]
  },
  {
   "cell_type": "markdown",
   "metadata": {},
   "source": [
    "Let's get some hands-on experience with perspective projection and rigid transformations. First, we'll take some 3D data and project it onto an image using the equations and representations we've learned. The 3D data will come in the form of a point cloud, which is very intuitively just a bunch of XYZ points. For aesthetics, each point will have an RGB color attached to it too. Following this first projection experiment, we'll try to gain some intuition about what the intrinsic/extrinsic parameters mean by modifying their values. Finally, we'll try rotating a cube (which'll be simpler to deal with than the point cloud).\n",
    "\n",
    "The point cloud data originates from\n",
    "```\n",
    "A Large-Scale Hierarchical Multi-View RGB-D Object Dataset \n",
    "Kevin Lai, Liefeng Bo, Xiaofeng Ren, and Dieter Fox \n",
    "IEEE International Conference on Robotics and Automation (ICRA), May 2011.\n",
    "```"
   ]
  },
  {
   "cell_type": "code",
   "execution_count": null,
   "metadata": {
    "collapsed": false
   },
   "outputs": [],
   "source": [
    "import itertools\n",
    "import numpy as np\n",
    "%matplotlib notebook\n",
    "import scipy.io as sio\n",
    "import matplotlib.pyplot as plt\n",
    "from mpl_toolkits.mplot3d import Axes3D\n",
    "\n",
    "# 'xyz' : (n, 3)\n",
    "# 'rgb' : (n, 3)\n",
    "# 'ixy' : (n, 2)\n",
    "pc = sio.loadmat('scissors.mat')\n",
    "xyz = pc['xyz']\n",
    "rgb = pc['rgb'] / 255.0\n",
    "\n",
    "fig = plt.figure()\n",
    "ax = Axes3D(fig)\n",
    "ax.set_aspect('equal')\n",
    "ax.view_init(0, -90)\n",
    "ax.scatter(xyz[:, 0], xyz[:, 1], xyz[:, 2], s=10.0, c=rgb)\n",
    "plt.show()"
   ]
  },
  {
   "cell_type": "markdown",
   "metadata": {},
   "source": [
    "## 1. Pinhole Perspective Projection\n",
    "\n",
    "First, let's perform a perspective projection. Right now, we have a point cloud which we'll think of as being in world coordinates. We want to transform it into the camera frame, then project it onto the image. To do so, we'll set up the intrinsic and extrinsic matrices as seen in Lecture 2. Your task is to define those matrices and project the points onto an image using matrix multiplication and homogeneous coordinates. Here are the intrinsics and extrinsics to use:\n",
    "\n",
    "```\n",
    "image width:          640\n",
    "image height:         480\n",
    "focal length:         575\n",
    "principal point:      (320, 240)\n",
    "rigid transformation: 90-degree rotation around x-axis, then 0.01 translation along z-axis\n",
    "```"
   ]
  },
  {
   "cell_type": "code",
   "execution_count": null,
   "metadata": {
    "collapsed": false
   },
   "outputs": [],
   "source": [
    "%matplotlib inline\n",
    "\n",
    "def homogenize(x):\n",
    "    \"\"\"Turn inhomogeneous coordinates into homogeneous coordinates.\n",
    "    If the input is (n, 2), the output will be (n, 3).\"\"\"\n",
    "    return np.hstack((x, np.ones((x.shape[0], 1))))\n",
    "\n",
    "def dehomogenize(x):\n",
    "    \"\"\"Turn homogeneous coordinates into inhomogeneous coordinates.\n",
    "    If the input is (n, 3), the output will be (n, 2).\"\"\"\n",
    "    return x[:, :-1] / x[:, -1:]\n",
    "\n",
    "def project(world_xyz, f, cx, cy, R, t):\n",
    "    \"\"\"Project world XYZ coordinates onto an image.\n",
    "    Should take in (x, y, z) inhomogeneous world points in the shape (n, 3)\n",
    "           and output (x, y) inhomogeneous image points in the shape (n, 2).\"\"\"\n",
    "    # YOUR CODE HERE\n",
    "    # define intrinsic/extrinsic matrices and do matrix multiplication\n",
    "    # you should use the `homogenize` and `dehomogenize` functions here\n",
    "    return np.ones((world_xyz.shape[0], 2))\n",
    "\n",
    "def visualize(xs, ys, rgb, h, w, title=None):\n",
    "    \"\"\"Display projected points with given RGB colors.\n",
    "    The height and width of the desired image are given as parameters.\"\"\"\n",
    "    xs = xs.astype(np.int)\n",
    "    ys = ys.astype(np.int)\n",
    "    im = np.ones((h, w, 3))\n",
    "    im[ys, xs] = rgb\n",
    "    if title:\n",
    "        plt.title(title)\n",
    "    plt.imshow(im); plt.show()\n",
    "\n",
    "# parameters\n",
    "w  = 640\n",
    "h  = 480\n",
    "f  = 575\n",
    "cx = 320\n",
    "cy = 240\n",
    "R  = # YOUR CODE HERE\n",
    "t  = # YOUR CODE HERE\n",
    "\n",
    "# projected\n",
    "ixy = project(xyz, f, cx, cy, R, t)\n",
    "visualize(ixy[:, 0], ixy[:, 1], rgb, h, w, title='projected')\n",
    "\n",
    "# reference\n",
    "visualize(pc['ixy'][:, 0], pc['ixy'][:, 1], rgb, h, w, title='reference')"
   ]
  },
  {
   "cell_type": "markdown",
   "metadata": {},
   "source": [
    "## 2. Intrinsics\n",
    "\n",
    "Try multiplying the focal length by 3 and setting the principal point offset to (380, 320). How does this change the image? Why? Think about it geometrically."
   ]
  },
  {
   "cell_type": "code",
   "execution_count": null,
   "metadata": {
    "collapsed": false
   },
   "outputs": [],
   "source": [
    "# YOUR CODE HERE\n",
    "ixy = project(xyz, ..., ..., ..., R, t)\n",
    "visualize(ixy[:, 0], ixy[:, 1], rgb, h, w, title='intrinsics experiment')"
   ]
  },
  {
   "cell_type": "markdown",
   "metadata": {},
   "source": [
    "## 3. Extrinsics\n",
    "\n",
    "What if we change the camera/object pose? Let's look at the scissors from farther out, so that they appear smaller. Set the $z$-translation to 1.0."
   ]
  },
  {
   "cell_type": "code",
   "execution_count": null,
   "metadata": {
    "collapsed": false
   },
   "outputs": [],
   "source": [
    "# YOUR CODE HERE\n",
    "ixy = project(xyz, f, cx, cy, R, ...)\n",
    "visualize(ixy[:, 0], ixy[:, 1], rgb, h, w, title='extrinsics experiment')"
   ]
  },
  {
   "cell_type": "markdown",
   "metadata": {},
   "source": [
    "## 4. Rotations\n",
    "\n",
    "Let's apply a 3D rotation to a cube. Here's a cube..."
   ]
  },
  {
   "cell_type": "code",
   "execution_count": null,
   "metadata": {
    "collapsed": false
   },
   "outputs": [],
   "source": [
    "COLORS = [\n",
    "    'royalblue',\n",
    "    'crimson',\n",
    "    'forestgreen',\n",
    "    'fuchsia',\n",
    "    'black',\n",
    "    'c',\n",
    "    'darkgoldenrod',\n",
    "    'indigo',\n",
    "    'darkslategray',\n",
    "    'deepskyblue',\n",
    "    'mediumslateblue',\n",
    "    'darkorange',\n",
    "]\n",
    "def plot_cube(vertices, proj_type='persp'):\n",
    "    fig = plt.figure()\n",
    "    ax = Axes3D(fig)\n",
    "    plt.gcf().set_size_inches((6, 6))\n",
    "    ax.view_init(0, -90)\n",
    "    ax.set_proj_type(proj_type)\n",
    "    i = 0\n",
    "    for v1, v2 in itertools.combinations(vertices, 2):\n",
    "        if np.isclose(np.linalg.norm(v1 - v2), 2):\n",
    "            ax.plot3D(*zip(v1, v2), color=COLORS[i])\n",
    "            i += 1\n",
    "    plt.show()\n",
    "\n",
    "vertices = np.array([\n",
    "    [-1, -1, -1],\n",
    "    [-1, -1,  1],\n",
    "    [-1,  1,  1],\n",
    "    [-1,  1, -1],\n",
    "    [ 1,  1, -1],\n",
    "    [ 1,  1,  1],\n",
    "    [ 1, -1,  1],\n",
    "    [ 1, -1, -1],\n",
    "])\n",
    "plot_cube(vertices)"
   ]
  },
  {
   "cell_type": "markdown",
   "metadata": {},
   "source": [
    "We can rotate the cube by transforming its `vertices`.\n",
    "\n",
    "In our current view, the $x$-axis points to the right, the $y$-axis points out of the screen, and the $z$-axis points upward. **Try rotating the cube 45 degrees around the $y$-axis and then $\\arccos\\left(1 / \\sqrt{3}\\right)$ [54.74] degrees around the $x$-axis.** From the default frontal viewpoint, the silhouette of the result should be a hexagon."
   ]
  },
  {
   "cell_type": "code",
   "execution_count": null,
   "metadata": {
    "collapsed": false
   },
   "outputs": [],
   "source": [
    "# YOUR CODE HERE\n",
    "rotated_vertices = ...\n",
    "plot_cube(rotated_vertices, proj_type='ortho')"
   ]
  },
  {
   "cell_type": "code",
   "execution_count": null,
   "metadata": {
    "collapsed": true
   },
   "outputs": [],
   "source": []
  }
 ],
 "metadata": {
  "kernelspec": {
   "display_name": "py36",
   "language": "python",
   "name": "py36"
  },
  "language_info": {
   "codemirror_mode": {
    "name": "ipython",
    "version": 3
   },
   "file_extension": ".py",
   "mimetype": "text/x-python",
   "name": "python",
   "nbconvert_exporter": "python",
   "pygments_lexer": "ipython3",
   "version": "3.6.4"
  }
 },
 "nbformat": 4,
 "nbformat_minor": 2
}
